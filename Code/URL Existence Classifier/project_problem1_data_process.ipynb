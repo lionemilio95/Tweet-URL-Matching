{
 "cells": [
  {
   "cell_type": "code",
   "execution_count": 1,
   "metadata": {},
   "outputs": [
    {
     "name": "stderr",
     "output_type": "stream",
     "text": [
      "C:\\Users\\matia\\Anaconda3\\lib\\site-packages\\sklearn\\ensemble\\weight_boosting.py:29: DeprecationWarning: numpy.core.umath_tests is an internal NumPy module and should not be imported. It will be removed in a future NumPy release.\n",
      "  from numpy.core.umath_tests import inner1d\n"
     ]
    }
   ],
   "source": [
    "from sklearn.preprocessing import LabelEncoder\n",
    "from sklearn.svm import SVC, LinearSVC\n",
    "from sklearn import tree\n",
    "from sklearn.neighbors import KNeighborsClassifier\n",
    "from sklearn.ensemble import RandomForestClassifier\n",
    "from sklearn.naive_bayes import BernoulliNB   \n",
    "from sklearn.model_selection import StratifiedKFold\n",
    "from sklearn.linear_model import SGDClassifier\n",
    "from sklearn.metrics import precision_recall_fscore_support\n",
    "from sklearn.model_selection import GridSearchCV\n",
    "from sklearn.model_selection import train_test_split\n",
    "import pandas as pd\n",
    "import numpy as np"
   ]
  },
  {
   "cell_type": "code",
   "execution_count": 2,
   "metadata": {},
   "outputs": [
    {
     "name": "stdout",
     "output_type": "stream",
     "text": [
      "6614 49412\n"
     ]
    },
    {
     "name": "stderr",
     "output_type": "stream",
     "text": [
      "C:\\Users\\matia\\Anaconda3\\lib\\site-packages\\ipykernel_launcher.py:6: SettingWithCopyWarning: \n",
      "A value is trying to be set on a copy of a slice from a DataFrame\n",
      "\n",
      "See the caveats in the documentation: https://pandas.pydata.org/pandas-docs/stable/user_guide/indexing.html#returning-a-view-versus-a-copy\n",
      "  \n"
     ]
    }
   ],
   "source": [
    "data = pd.read_csv('clean_data.csv')\n",
    "\n",
    "data_sample = data\n",
    "# replace URL with 0 or 1\n",
    "data_sample['URL'] = data_sample['URL'].replace(np.nan, 0)\n",
    "data_sample['URL'][data_sample.URL != 0] = 1\n",
    "\n",
    "# nr of URL and non-URL\n",
    "print(len(data_sample['URL'][data_sample.URL == 1]),len(data_sample['URL'][data_sample.URL == 0]))"
   ]
  },
  {
   "cell_type": "code",
   "execution_count": 3,
   "metadata": {},
   "outputs": [
    {
     "data": {
      "text/plain": [
       "0    49412\n",
       "1     6614\n",
       "Name: URL, dtype: int64"
      ]
     },
     "execution_count": 3,
     "metadata": {},
     "output_type": "execute_result"
    }
   ],
   "source": [
    "pd.value_counts(data_sample['URL'])"
   ]
  },
  {
   "cell_type": "code",
   "execution_count": 4,
   "metadata": {},
   "outputs": [
    {
     "data": {
      "text/plain": [
       "In a first in the nation, Oregon has passed a ballot measure decriminalizing the possession of heroin, oxycodone, meth and other hard drugs. Instead of possible jail time, a person would be able to pay a $100 fine or enter addiction treatment.\\n                                                                                                                  993\n",
       "“If Biden has more votes in Trump than Pennsylvania, Trump was never ‘ahead,’ Biden didn't ‘catch up.’ Biden is &amp; was always the winner and Trump is/was always the loser. Counting ballots isn't a baseball game. The time a ballot is counted doesn't give it some different valence”                                                                            654\n",
       "Here is another 2010 Forbes article\\n\\n“The Pandemic That Wasn't”\\n\\n“The WHO widely criticized.. Parliamentary Assembly of Council of Europe announced plans to debate ‘false pandemics, a threat to health’.. WHO’s policy role should be drastically limited.”\\n▶️                                                                                                  573\n",
       "Office for Product Safety and Standards : Review firework rules to protect animals from injury and distress - Sign the Petition!  via @UKChange                                                                                                                                                                                                                        496\n",
       "Just the Mayor of London Sadiq Khan getting the Flu vaccine he's advertising while encouraging others to do same.\\n\\nExcept he's not really, he's pretending to get it - check out the protective cap still on the vaccine!                                                                                                                                            486\n",
       "                                                                                                                                                                                                                                                                                                                                                                      ... \n",
       "In consultation with the Chief Medical Officer of Health &amp; other health experts, Ontario is releasing a transparent #COVID19 response framework to protect the health &amp; safety of Ontarians, while avoiding broader closures.                                                                                                                                    1\n",
       "NBA YoungBoy - House Arrest Tingz (Official Music Video)  #nowplaying #listenlive                                                                                                                                                                                                                                                                                        1\n",
       "@IceAge_Farming @Cleft_Music @williamtylertn @Reuters @ELEC_Western_Md this is the case with pemf devices from centurion too, they are widely used by millionaires for their race horses.\\n\\ngood horses don't get shot and die anymore they heal them and keep breeding them instead.\\n\\ngood enough for millionaire pets but not humans? health can wont say yes.      1\n",
       "Just got these #cyberpunk2077 #funkopop in for the #gameroom woooo. Now if only the game would stop getting delayed!! #ps5 #xboxseriesx                                                                                                                                                                                                                                  1\n",
       "Flu season is upon us and getting your flu shot could be more important than ever this year! Stop by Family Medicine Specialists to get your flu shot today.                                                                                                                                                                                                             1\n",
       "Name: Text, Length: 20952, dtype: int64"
      ]
     },
     "execution_count": 4,
     "metadata": {},
     "output_type": "execute_result"
    }
   ],
   "source": [
    "pd.value_counts(data_sample['Text'])"
   ]
  },
  {
   "cell_type": "code",
   "execution_count": 5,
   "metadata": {},
   "outputs": [
    {
     "data": {
      "text/html": [
       "<div>\n",
       "<style scoped>\n",
       "    .dataframe tbody tr th:only-of-type {\n",
       "        vertical-align: middle;\n",
       "    }\n",
       "\n",
       "    .dataframe tbody tr th {\n",
       "        vertical-align: top;\n",
       "    }\n",
       "\n",
       "    .dataframe thead th {\n",
       "        text-align: right;\n",
       "    }\n",
       "</style>\n",
       "<table border=\"1\" class=\"dataframe\">\n",
       "  <thead>\n",
       "    <tr style=\"text-align: right;\">\n",
       "      <th></th>\n",
       "      <th>Unnamed: 0</th>\n",
       "      <th>Column1</th>\n",
       "      <th>ID</th>\n",
       "      <th>Date</th>\n",
       "      <th>Text</th>\n",
       "      <th>Domain</th>\n",
       "      <th>URL</th>\n",
       "    </tr>\n",
       "  </thead>\n",
       "  <tbody>\n",
       "    <tr>\n",
       "      <th>52029</th>\n",
       "      <td>52029</td>\n",
       "      <td>52029</td>\n",
       "      <td>1.324450e+18</td>\n",
       "      <td>11/5/2020 20:18</td>\n",
       "      <td>In a first in the nation, Oregon has passed a ...</td>\n",
       "      <td>unknown</td>\n",
       "      <td>0</td>\n",
       "    </tr>\n",
       "    <tr>\n",
       "      <th>52030</th>\n",
       "      <td>52030</td>\n",
       "      <td>52030</td>\n",
       "      <td>1.324450e+18</td>\n",
       "      <td>11/5/2020 20:18</td>\n",
       "      <td>In a first in the nation, Oregon has passed a ...</td>\n",
       "      <td>unknown</td>\n",
       "      <td>0</td>\n",
       "    </tr>\n",
       "    <tr>\n",
       "      <th>52031</th>\n",
       "      <td>52031</td>\n",
       "      <td>52031</td>\n",
       "      <td>1.324450e+18</td>\n",
       "      <td>11/5/2020 20:17</td>\n",
       "      <td>In a first in the nation, Oregon has passed a ...</td>\n",
       "      <td>unknown</td>\n",
       "      <td>0</td>\n",
       "    </tr>\n",
       "    <tr>\n",
       "      <th>52035</th>\n",
       "      <td>52035</td>\n",
       "      <td>52035</td>\n",
       "      <td>1.324450e+18</td>\n",
       "      <td>11/5/2020 20:16</td>\n",
       "      <td>In a first in the nation, Oregon has passed a ...</td>\n",
       "      <td>unknown</td>\n",
       "      <td>0</td>\n",
       "    </tr>\n",
       "    <tr>\n",
       "      <th>52036</th>\n",
       "      <td>52036</td>\n",
       "      <td>52036</td>\n",
       "      <td>1.324440e+18</td>\n",
       "      <td>11/5/2020 20:09</td>\n",
       "      <td>In a first in the nation, Oregon has passed a ...</td>\n",
       "      <td>unknown</td>\n",
       "      <td>0</td>\n",
       "    </tr>\n",
       "    <tr>\n",
       "      <th>...</th>\n",
       "      <td>...</td>\n",
       "      <td>...</td>\n",
       "      <td>...</td>\n",
       "      <td>...</td>\n",
       "      <td>...</td>\n",
       "      <td>...</td>\n",
       "      <td>...</td>\n",
       "    </tr>\n",
       "    <tr>\n",
       "      <th>53355</th>\n",
       "      <td>53355</td>\n",
       "      <td>53355</td>\n",
       "      <td>1.324120e+18</td>\n",
       "      <td>11/4/2020 22:36</td>\n",
       "      <td>In a first in the nation, Oregon has passed a ...</td>\n",
       "      <td>unknown</td>\n",
       "      <td>0</td>\n",
       "    </tr>\n",
       "    <tr>\n",
       "      <th>53356</th>\n",
       "      <td>53356</td>\n",
       "      <td>53356</td>\n",
       "      <td>1.324120e+18</td>\n",
       "      <td>11/4/2020 22:36</td>\n",
       "      <td>In a first in the nation, Oregon has passed a ...</td>\n",
       "      <td>unknown</td>\n",
       "      <td>0</td>\n",
       "    </tr>\n",
       "    <tr>\n",
       "      <th>53357</th>\n",
       "      <td>53357</td>\n",
       "      <td>53357</td>\n",
       "      <td>1.324120e+18</td>\n",
       "      <td>11/4/2020 22:36</td>\n",
       "      <td>In a first in the nation, Oregon has passed a ...</td>\n",
       "      <td>unknown</td>\n",
       "      <td>0</td>\n",
       "    </tr>\n",
       "    <tr>\n",
       "      <th>53358</th>\n",
       "      <td>53358</td>\n",
       "      <td>53358</td>\n",
       "      <td>1.324120e+18</td>\n",
       "      <td>11/4/2020 22:36</td>\n",
       "      <td>In a first in the nation, Oregon has passed a ...</td>\n",
       "      <td>unknown</td>\n",
       "      <td>0</td>\n",
       "    </tr>\n",
       "    <tr>\n",
       "      <th>53359</th>\n",
       "      <td>53359</td>\n",
       "      <td>53359</td>\n",
       "      <td>1.324120e+18</td>\n",
       "      <td>11/4/2020 22:36</td>\n",
       "      <td>In a first in the nation, Oregon has passed a ...</td>\n",
       "      <td>unknown</td>\n",
       "      <td>0</td>\n",
       "    </tr>\n",
       "  </tbody>\n",
       "</table>\n",
       "<p>993 rows × 7 columns</p>\n",
       "</div>"
      ],
      "text/plain": [
       "       Unnamed: 0  Column1            ID             Date  \\\n",
       "52029       52029    52029  1.324450e+18  11/5/2020 20:18   \n",
       "52030       52030    52030  1.324450e+18  11/5/2020 20:18   \n",
       "52031       52031    52031  1.324450e+18  11/5/2020 20:17   \n",
       "52035       52035    52035  1.324450e+18  11/5/2020 20:16   \n",
       "52036       52036    52036  1.324440e+18  11/5/2020 20:09   \n",
       "...           ...      ...           ...              ...   \n",
       "53355       53355    53355  1.324120e+18  11/4/2020 22:36   \n",
       "53356       53356    53356  1.324120e+18  11/4/2020 22:36   \n",
       "53357       53357    53357  1.324120e+18  11/4/2020 22:36   \n",
       "53358       53358    53358  1.324120e+18  11/4/2020 22:36   \n",
       "53359       53359    53359  1.324120e+18  11/4/2020 22:36   \n",
       "\n",
       "                                                    Text   Domain URL  \n",
       "52029  In a first in the nation, Oregon has passed a ...  unknown   0  \n",
       "52030  In a first in the nation, Oregon has passed a ...  unknown   0  \n",
       "52031  In a first in the nation, Oregon has passed a ...  unknown   0  \n",
       "52035  In a first in the nation, Oregon has passed a ...  unknown   0  \n",
       "52036  In a first in the nation, Oregon has passed a ...  unknown   0  \n",
       "...                                                  ...      ...  ..  \n",
       "53355  In a first in the nation, Oregon has passed a ...  unknown   0  \n",
       "53356  In a first in the nation, Oregon has passed a ...  unknown   0  \n",
       "53357  In a first in the nation, Oregon has passed a ...  unknown   0  \n",
       "53358  In a first in the nation, Oregon has passed a ...  unknown   0  \n",
       "53359  In a first in the nation, Oregon has passed a ...  unknown   0  \n",
       "\n",
       "[993 rows x 7 columns]"
      ]
     },
     "execution_count": 5,
     "metadata": {},
     "output_type": "execute_result"
    }
   ],
   "source": [
    "data_sample[data_sample['Text']=='In a first in the nation, Oregon has passed a ballot measure decriminalizing the possession of heroin, oxycodone, meth and other hard drugs. Instead of possible jail time, a person would be able to pay a $100 fine or enter addiction treatment.\\n']"
   ]
  },
  {
   "cell_type": "code",
   "execution_count": 6,
   "metadata": {},
   "outputs": [
    {
     "data": {
      "text/plain": [
       "20952"
      ]
     },
     "execution_count": 6,
     "metadata": {},
     "output_type": "execute_result"
    }
   ],
   "source": [
    "len(data_sample['Text'].unique())"
   ]
  },
  {
   "cell_type": "code",
   "execution_count": 7,
   "metadata": {},
   "outputs": [
    {
     "data": {
      "text/html": [
       "<div>\n",
       "<style scoped>\n",
       "    .dataframe tbody tr th:only-of-type {\n",
       "        vertical-align: middle;\n",
       "    }\n",
       "\n",
       "    .dataframe tbody tr th {\n",
       "        vertical-align: top;\n",
       "    }\n",
       "\n",
       "    .dataframe thead th {\n",
       "        text-align: right;\n",
       "    }\n",
       "</style>\n",
       "<table border=\"1\" class=\"dataframe\">\n",
       "  <thead>\n",
       "    <tr style=\"text-align: right;\">\n",
       "      <th></th>\n",
       "      <th>Unnamed: 0</th>\n",
       "      <th>Column1</th>\n",
       "      <th>ID</th>\n",
       "      <th>Date</th>\n",
       "      <th>Text</th>\n",
       "      <th>Domain</th>\n",
       "      <th>URL</th>\n",
       "    </tr>\n",
       "  </thead>\n",
       "  <tbody>\n",
       "  </tbody>\n",
       "</table>\n",
       "</div>"
      ],
      "text/plain": [
       "Empty DataFrame\n",
       "Columns: [Unnamed: 0, Column1, ID, Date, Text, Domain, URL]\n",
       "Index: []"
      ]
     },
     "execution_count": 7,
     "metadata": {},
     "output_type": "execute_result"
    }
   ],
   "source": [
    "data_new=pd.DataFrame(columns=data_sample.columns)\n",
    "data_new"
   ]
  },
  {
   "cell_type": "code",
   "execution_count": 8,
   "metadata": {},
   "outputs": [],
   "source": [
    "data_new=pd.DataFrame()\n",
    "Texts=data_sample['Text'].unique()\n",
    "for text in Texts:\n",
    "    data_new=pd.concat([data_new, data_sample[data_sample['Text']==text].head(1)])"
   ]
  },
  {
   "cell_type": "code",
   "execution_count": 9,
   "metadata": {},
   "outputs": [],
   "source": [
    "data_new=data_new.reset_index()\n",
    "data_new=data_new.drop(columns=['Unnamed: 0','Column1'])"
   ]
  },
  {
   "cell_type": "code",
   "execution_count": 10,
   "metadata": {},
   "outputs": [
    {
     "data": {
      "text/plain": [
       "0    19057\n",
       "1     1895\n",
       "Name: URL, dtype: int64"
      ]
     },
     "execution_count": 10,
     "metadata": {},
     "output_type": "execute_result"
    }
   ],
   "source": [
    "pd.value_counts(data_new['URL'])"
   ]
  },
  {
   "cell_type": "code",
   "execution_count": 11,
   "metadata": {
    "collapsed": true
   },
   "outputs": [],
   "source": [
    "data_new.to_csv(\"Problem1_processed.csv\",encoding='utf-8-sig')"
   ]
  },
  {
   "cell_type": "code",
   "execution_count": 12,
   "metadata": {
    "collapsed": true
   },
   "outputs": [],
   "source": [
    "data_1s=data_new[data_new['URL']==1]\n",
    "data_0s=data_new[data_new['URL']==0]"
   ]
  },
  {
   "cell_type": "code",
   "execution_count": 13,
   "metadata": {},
   "outputs": [],
   "source": [
    "data_0s_sample=data_0s.sample(n = 1900) "
   ]
  },
  {
   "cell_type": "code",
   "execution_count": null,
   "metadata": {
    "collapsed": true
   },
   "outputs": [],
   "source": []
  },
  {
   "cell_type": "code",
   "execution_count": 14,
   "metadata": {
    "collapsed": true
   },
   "outputs": [],
   "source": [
    "data_balance=pd.concat([data_1s, data_0s_sample])\n"
   ]
  },
  {
   "cell_type": "code",
   "execution_count": 15,
   "metadata": {},
   "outputs": [
    {
     "data": {
      "text/html": [
       "<div>\n",
       "<style scoped>\n",
       "    .dataframe tbody tr th:only-of-type {\n",
       "        vertical-align: middle;\n",
       "    }\n",
       "\n",
       "    .dataframe tbody tr th {\n",
       "        vertical-align: top;\n",
       "    }\n",
       "\n",
       "    .dataframe thead th {\n",
       "        text-align: right;\n",
       "    }\n",
       "</style>\n",
       "<table border=\"1\" class=\"dataframe\">\n",
       "  <thead>\n",
       "    <tr style=\"text-align: right;\">\n",
       "      <th></th>\n",
       "      <th>index</th>\n",
       "      <th>ID</th>\n",
       "      <th>Date</th>\n",
       "      <th>Text</th>\n",
       "      <th>Domain</th>\n",
       "      <th>URL</th>\n",
       "    </tr>\n",
       "  </thead>\n",
       "  <tbody>\n",
       "    <tr>\n",
       "      <th>1</th>\n",
       "      <td>1</td>\n",
       "      <td>1.324130e+18</td>\n",
       "      <td>11/4/2020 23:25</td>\n",
       "      <td>“For Premier Doug Ford to say that they've don...</td>\n",
       "      <td>Medical</td>\n",
       "      <td>1</td>\n",
       "    </tr>\n",
       "    <tr>\n",
       "      <th>8</th>\n",
       "      <td>8</td>\n",
       "      <td>1.324130e+18</td>\n",
       "      <td>11/4/2020 23:24</td>\n",
       "      <td>In any season, getting sick is tough.  But rig...</td>\n",
       "      <td>Medical</td>\n",
       "      <td>1</td>\n",
       "    </tr>\n",
       "    <tr>\n",
       "      <th>12</th>\n",
       "      <td>13</td>\n",
       "      <td>1.324130e+18</td>\n",
       "      <td>11/4/2020 23:23</td>\n",
       "      <td>@FatEmperor And the lastest vicim of the swine...</td>\n",
       "      <td>Medical</td>\n",
       "      <td>1</td>\n",
       "    </tr>\n",
       "    <tr>\n",
       "      <th>17</th>\n",
       "      <td>18</td>\n",
       "      <td>1.324130e+18</td>\n",
       "      <td>11/4/2020 23:22</td>\n",
       "      <td>Fargo Cass Public Health holds additional flu ...</td>\n",
       "      <td>Medical</td>\n",
       "      <td>1</td>\n",
       "    </tr>\n",
       "    <tr>\n",
       "      <th>19</th>\n",
       "      <td>21</td>\n",
       "      <td>1.324130e+18</td>\n",
       "      <td>11/4/2020 23:32</td>\n",
       "      <td>Health over Illness - #COVID19\\nAsk The Expert...</td>\n",
       "      <td>Medical</td>\n",
       "      <td>1</td>\n",
       "    </tr>\n",
       "    <tr>\n",
       "      <th>...</th>\n",
       "      <td>...</td>\n",
       "      <td>...</td>\n",
       "      <td>...</td>\n",
       "      <td>...</td>\n",
       "      <td>...</td>\n",
       "      <td>...</td>\n",
       "    </tr>\n",
       "    <tr>\n",
       "      <th>721</th>\n",
       "      <td>4280</td>\n",
       "      <td>1.324080e+18</td>\n",
       "      <td>11/4/2020 20:14</td>\n",
       "      <td>@nancygedge How is your son generally health w...</td>\n",
       "      <td>Medical</td>\n",
       "      <td>0</td>\n",
       "    </tr>\n",
       "    <tr>\n",
       "      <th>1377</th>\n",
       "      <td>7545</td>\n",
       "      <td>1.324040e+18</td>\n",
       "      <td>11/4/2020 17:13</td>\n",
       "      <td>Getting a flu vaccine this fall can reduce you...</td>\n",
       "      <td>Medical</td>\n",
       "      <td>0</td>\n",
       "    </tr>\n",
       "    <tr>\n",
       "      <th>978</th>\n",
       "      <td>4816</td>\n",
       "      <td>1.324060e+18</td>\n",
       "      <td>11/4/2020 19:01</td>\n",
       "      <td>I scream, you scream, we all scream for the va...</td>\n",
       "      <td>Medical</td>\n",
       "      <td>0</td>\n",
       "    </tr>\n",
       "    <tr>\n",
       "      <th>18235</th>\n",
       "      <td>48849</td>\n",
       "      <td>1.324400e+18</td>\n",
       "      <td>11/5/2020 17:20</td>\n",
       "      <td>Volk Digital Clear Mag for Optic Disc &amp;amp; Po...</td>\n",
       "      <td>unknown</td>\n",
       "      <td>0</td>\n",
       "    </tr>\n",
       "    <tr>\n",
       "      <th>53</th>\n",
       "      <td>95</td>\n",
       "      <td>1.324130e+18</td>\n",
       "      <td>11/4/2020 23:39</td>\n",
       "      <td>Getting a #fluvaccine now helps protect essent...</td>\n",
       "      <td>Medical</td>\n",
       "      <td>0</td>\n",
       "    </tr>\n",
       "  </tbody>\n",
       "</table>\n",
       "<p>3795 rows × 6 columns</p>\n",
       "</div>"
      ],
      "text/plain": [
       "       index            ID             Date  \\\n",
       "1          1  1.324130e+18  11/4/2020 23:25   \n",
       "8          8  1.324130e+18  11/4/2020 23:24   \n",
       "12        13  1.324130e+18  11/4/2020 23:23   \n",
       "17        18  1.324130e+18  11/4/2020 23:22   \n",
       "19        21  1.324130e+18  11/4/2020 23:32   \n",
       "...      ...           ...              ...   \n",
       "721     4280  1.324080e+18  11/4/2020 20:14   \n",
       "1377    7545  1.324040e+18  11/4/2020 17:13   \n",
       "978     4816  1.324060e+18  11/4/2020 19:01   \n",
       "18235  48849  1.324400e+18  11/5/2020 17:20   \n",
       "53        95  1.324130e+18  11/4/2020 23:39   \n",
       "\n",
       "                                                    Text   Domain URL  \n",
       "1      “For Premier Doug Ford to say that they've don...  Medical   1  \n",
       "8      In any season, getting sick is tough.  But rig...  Medical   1  \n",
       "12     @FatEmperor And the lastest vicim of the swine...  Medical   1  \n",
       "17     Fargo Cass Public Health holds additional flu ...  Medical   1  \n",
       "19     Health over Illness - #COVID19\\nAsk The Expert...  Medical   1  \n",
       "...                                                  ...      ...  ..  \n",
       "721    @nancygedge How is your son generally health w...  Medical   0  \n",
       "1377   Getting a flu vaccine this fall can reduce you...  Medical   0  \n",
       "978    I scream, you scream, we all scream for the va...  Medical   0  \n",
       "18235  Volk Digital Clear Mag for Optic Disc &amp; Po...  unknown   0  \n",
       "53     Getting a #fluvaccine now helps protect essent...  Medical   0  \n",
       "\n",
       "[3795 rows x 6 columns]"
      ]
     },
     "execution_count": 15,
     "metadata": {},
     "output_type": "execute_result"
    }
   ],
   "source": [
    "data_balance"
   ]
  },
  {
   "cell_type": "code",
   "execution_count": 16,
   "metadata": {
    "collapsed": true
   },
   "outputs": [],
   "source": [
    "data_balance.to_csv(\"Problem1_balance.csv\",encoding='utf-8-sig')"
   ]
  }
 ],
 "metadata": {
  "kernelspec": {
   "display_name": "Python 3",
   "language": "python",
   "name": "python3"
  },
  "language_info": {
   "codemirror_mode": {
    "name": "ipython",
    "version": 3
   },
   "file_extension": ".py",
   "mimetype": "text/x-python",
   "name": "python",
   "nbconvert_exporter": "python",
   "pygments_lexer": "ipython3",
   "version": "3.6.3"
  }
 },
 "nbformat": 4,
 "nbformat_minor": 2
}
