{
 "cells": [
  {
   "cell_type": "markdown",
   "metadata": {
    "id": "9JP8iv9HG2T1"
   },
   "source": [
    "## Twitter API"
   ]
  },
  {
   "cell_type": "code",
   "execution_count": 25,
   "metadata": {
    "id": "z-eA9t0IGpCu"
   },
   "outputs": [],
   "source": [
    "from tweepy.streaming import StreamListener "
   ]
  },
  {
   "cell_type": "code",
   "execution_count": 26,
   "metadata": {
    "id": "XA_PKEc1GpC3"
   },
   "outputs": [],
   "source": [
    "from tweepy import OAuthHandler\n",
    "from tweepy import Stream\n",
    "import tweepy\n",
    "import pandas as pd\n",
    "import re\n",
    "from urllib.request import urlopen\n",
    "from sklearn.feature_extraction.text import TfidfVectorizer"
   ]
  },
  {
   "cell_type": "code",
   "execution_count": 27,
   "metadata": {
    "id": "HYSZTcylGpC9"
   },
   "outputs": [],
   "source": [
    "consumer_key = 'jMGHf8foubzy1uOyutlMMeLRp'\n",
    "consumer_secret = 'DoEBQbO7BsmJ0ScsIMgNzfW4WqUThvv3NozDiaSKOt9f1ov4Lg'\n",
    "access_token = '1313895471115452417-ldxMiUZIvON8gbA2CDn1OA83caL8C2'\n",
    "access_token_secret = '4X8p2mtqDhL4udSGEo97wL1vVk8JyoL9O9poz4jEzGOdQ'\n",
    "\n",
    "# Create authentication for accessing Twitter \n",
    "auth = tweepy.OAuthHandler(consumer_key, consumer_secret)\n",
    "auth.set_access_token(access_token, access_token_secret)\n",
    "\n",
    "\n",
    "# Initialize Tweepy API\n",
    "api = tweepy.API(auth,wait_on_rate_limit=True)\n",
    "\n",
    "\n",
    "# Sport \n",
    "text_query1 = ['http://','score']\n",
    "text_query2 = ['http://','halftime']\n",
    "text_query3 = ['http://','winning']\n",
    "text_query4 = ['http://','field']\n",
    "text_query5 = ['http://','possession']\n",
    "sport = [text_query1,text_query2,text_query3,text_query4,text_query5]\n",
    "\n",
    "# 3 video games \n",
    "text_query6 = ['http://','multiplayer']\n",
    "text_query7 = ['http://','online']\n",
    "text_query8 = ['http://','consol']\n",
    "text_query9 = ['http://','game','release']\n",
    "text_query10 = ['http://','play','game']\n",
    "video_game = [text_query6,text_query7,text_query8,text_query9,text_query10]\n",
    "\n",
    "\n",
    "# 3 Medical\n",
    "text_query11 = ['http://','injury']\n",
    "text_query12 = ['http://','prescription']\n",
    "text_query13 = ['http://','surgery']\n",
    "text_query14 = ['http://','sick']\n",
    "text_query15 = ['http://','health']\n",
    "medical = [text_query11,text_query12,text_query13,text_query14,text_query15]\n",
    "\n",
    "count = int(20000/(5*3))\n",
    "tweets_df = pd.DataFrame(columns=[\"Date\", \"ID\", \"Text\"])\n",
    "for i in range(5):\n",
    "    tweets_sport = tweepy.Cursor(api.search, q=sport[i], lang=\"en\", tweet_mode='extended').items(count)\n",
    "    tweets_video_game = tweepy.Cursor(api.search, q=video_game[i], lang=\"en\", tweet_mode='extended').items(count)\n",
    "    tweets_medical = tweepy.Cursor(api.search, q=medical[i], lang=\"en\", tweet_mode='extended').items(count)\n",
    "\n",
    "\n",
    "    # Pulling information from tweets iterable object\n",
    "    for tweet in tweets_sport:\n",
    "        id = tweet.id\n",
    "        date = tweet.created_at\n",
    "        if(hasattr(tweet, 'retweeted_status')):\n",
    "            text = tweet.retweeted_status.full_text\n",
    "        else:\n",
    "            text = tweet.full_text\n",
    "        tweets_df = tweets_df.append({\"Date\": date, \"ID\": id, \"Text\": text}, ignore_index=True)\n",
    "\n",
    "    for tweet in tweets_video_game:\n",
    "        id = tweet.id\n",
    "        date = tweet.created_at\n",
    "        if(hasattr(tweet, 'retweeted_status')):\n",
    "            text = tweet.retweeted_status.full_text\n",
    "        else:\n",
    "            text = tweet.full_text\n",
    "        tweets_df = tweets_df.append({\"Date\": date, \"ID\": id, \"Text\": text}, ignore_index=True)\n",
    "    \n",
    "    for tweet in tweets_medical:\n",
    "        id = tweet.id\n",
    "        date = tweet.created_at\n",
    "        if(hasattr(tweet, 'retweeted_status')):\n",
    "            text = tweet.retweeted_status.full_text\n",
    "        else:\n",
    "            text = tweet.full_text\n",
    "        tweets_df = tweets_df.append({\"Date\": date, \"ID\": id, \"Text\": text}, ignore_index=True)\n",
    "\n",
    "    \n",
    "tweets_df.to_csv(\"Mix.csv\",encoding='utf-8-sig')"
   ]
  }
 ],
 "metadata": {
  "colab": {
   "collapsed_sections": [],
   "name": "Twitter_Project.ipynb",
   "provenance": []
  },
  "kernelspec": {
   "display_name": "Python 3",
   "language": "python",
   "name": "python3"
  },
  "language_info": {
   "codemirror_mode": {
    "name": "ipython",
    "version": 3
   },
   "file_extension": ".py",
   "mimetype": "text/x-python",
   "name": "python",
   "nbconvert_exporter": "python",
   "pygments_lexer": "ipython3",
   "version": "3.8.3"
  }
 },
 "nbformat": 4,
 "nbformat_minor": 1
}
