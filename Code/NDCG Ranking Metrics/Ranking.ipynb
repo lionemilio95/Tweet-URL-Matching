{
 "cells": [
  {
   "cell_type": "code",
   "execution_count": 24,
   "metadata": {},
   "outputs": [],
   "source": [
    "# read in table and manually assign ranking. \n",
    "# Output final ranking table"
   ]
  },
  {
   "cell_type": "code",
   "execution_count": 25,
   "metadata": {},
   "outputs": [],
   "source": [
    "import pandas as pd\n",
    "import numpy as np"
   ]
  },
  {
   "cell_type": "code",
   "execution_count": 26,
   "metadata": {},
   "outputs": [],
   "source": [
    "# Randomly extract \n",
    "data = pd.read_csv('Unique_Text.csv')\n",
    "data = data[data.Domain != 'unknown']\n",
    "# each domain;\n",
    "sport = data.loc[data['Domain'] == 'Sports']\n",
    "medical = data.loc[data['Domain'] == 'Medical']\n",
    "video_game = data.loc[data['Domain'] == 'Video_Games']\n",
    "\n",
    "final_sport = sport.sample(n= int(100*(len(sport)/len(data))))\n",
    "final_medical = medical.sample(n= int(100*(len(medical)/len(data))))\n",
    "final_video_game = video_game.sample(n= int(100*(len(video_game)/len(data))))\n",
    "\n",
    "frames = [final_sport, final_medical, final_video_game]\n",
    "result = pd.concat(frames)\n",
    "result = result.reset_index()\n",
    "result = result.drop(['Unnamed: 0'], axis=1)\n",
    "result = result.drop(['index'], axis=1)"
   ]
  },
  {
   "cell_type": "code",
   "execution_count": 29,
   "metadata": {},
   "outputs": [],
   "source": [
    "# Manual list of ranking URL for each tweet in data:\n",
    "data = result\n",
    "\n",
    "l = [[0,11,14,15,27],[1,3,24,28,26],[2,80,17,81],[3,10,15,22,26],[4,10,15,22,26],\n",
    "     [5,28,9,25,11],[6, 10,20,24,15], [7,9,13,25,28],[8,11,15,25,28],[9,13,25,0,11],\n",
    "     [10,22,23,1,15],[11,69,0,3,19],[12, 13,17,25,0],[13,14,0,12,25],[14,13,12,0,25],\n",
    "     [15,19,23,26,10],[16,17,80,81,2], [17,16,80,81,2],[18,14,29,65,77],[19,23,15,26,10],\n",
    "     [20,22,23,26,10],[21,68,10,15,19],[22,20,19,21,10],[23,26,3,10,15],[24,0,25,5,28],\n",
    "     [25,27,0,5,28],[26,10,15,19,22],[27,0,5,25,28],[28,0,3,4,7],[29,49,44,34,37],\n",
    "     [30,34,40,41,51],[31,32,37,42,49],[32,35,43,45,40],[33,34,49,56,59],[34,53,42,50,44],\n",
    "     [35,32,43,42,30],[36,37,49,42,56],[37,36,49,42,56],[38,39,56,49,51],[39,38,55,51,57],\n",
    "     [40,42,43,30,36],[41,43,44,49,50],[42,50,53,43,44],[43,42,35,42,50],[44,59,58,43,35],\n",
    "     [45,53,56,46,59],[46,42,49,50,53],[47,50,33,58,59],[48,57,58,49,29],[49,48,29,57,58],\n",
    "     [50,47,49,53,59],[51,55,52,57,39],[52,55,51,57,39],[53,56,52,55,38],[54,23,86,56,57],\n",
    "     [55,51,52,57,38],[56,57,52,51,39],[57,55,52,51,38],[58,59,44,49,30],[59,58,44,49,30],\n",
    "     [60,70,68,72,75],[61,62,81,85,86],[62,74,81,85,86],[63,71,81,82,85],[64,66,88,14,42],\n",
    "     [65,77,64,36,88],[66,74,81,82,85],[67,81,85,86,88],[68,70,60,10,7],[69,28,7,11,68],\n",
    "     [70,73,60,68,23],[71,81,82,86,87],[72,75,60,18,86],[73,70,60,68,23],[74,81,78,82,86],\n",
    "     [75,72,60,68,8],[76,77,84,85,90],[77,76,84,90,85],[78,86,87,74,89],[79,93,74,78,88],\n",
    "     [80,2,16,17,81],[81,87,86,95,74],[82,85,86,94,97],[83,89,84,87,92],[84,77,76,85,90],\n",
    "     [85,86,89,0,87],[86,87,82,89,95],[87,86,89,95,82],[88,92,81,78,89],[89,83,84,87,92],\n",
    "     [90,92,86,88,85],[91,73,92,82,0],[92,82,86,87,94],[93,86,81,87,89],[94,81,82,86,96],\n",
    "     [95,78,81,82,84],[96,81,82,86,87],[97,82,81,86,87]\n",
    "     \n",
    "]\n",
    "\n",
    "data['Ranking'] = l\n",
    "data.to_csv(\"Ranking.csv\",encoding='utf-8-sig')"
   ]
  }
 ],
 "metadata": {
  "kernelspec": {
   "display_name": "Python 3",
   "language": "python",
   "name": "python3"
  },
  "language_info": {
   "codemirror_mode": {
    "name": "ipython",
    "version": 3
   },
   "file_extension": ".py",
   "mimetype": "text/x-python",
   "name": "python",
   "nbconvert_exporter": "python",
   "pygments_lexer": "ipython3",
   "version": "3.8.3"
  }
 },
 "nbformat": 4,
 "nbformat_minor": 4
}
